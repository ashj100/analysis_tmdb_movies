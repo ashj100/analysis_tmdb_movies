{
 "cells": [
  {
   "cell_type": "markdown",
   "metadata": {
    "slideshow": {
     "slide_type": "slide"
    }
   },
   "source": [
    "![](kh1.png)"
   ]
  },
  {
   "cell_type": "markdown",
   "metadata": {
    "slideshow": {
     "slide_type": "slide"
    }
   },
   "source": [
    "## in this project \n",
    "I will analyze data for a set of movie lists and deduce through some statistical process some useful theories related to filmmaking.In the beginning: I will need a set of useful libraries to retrieve and then process and analyze data to reach a set of results based on a correct basis in the analysis process.\n",
    "The most important of these libraries:\"numpy,pandas, seaborn, and mutlalb\"، Shall we ? -"
   ]
  },
  {
   "cell_type": "markdown",
   "metadata": {
    "slideshow": {
     "slide_type": "slide"
    }
   },
   "source": [
    "## From this basis:\n",
    "\n",
    "I will pose a set of questions that help organize theories of data analysis\n",
    "\n",
    "1- What are the top ten films according to the revenue list?\n",
    "\n",
    "2- What are the top ten films based on voting?\n",
    "\n",
    "3- What were the most popularity films during that period 1960-2015 ?!\n",
    "\n",
    "4- What are the 10 films that have suffered losses throughout history?\n",
    "\n",
    "5-An analysis of the top five directors movies :( christopher_nolan vs james_cameron )\n",
    "\n",
    "6- For every dollar spent in the budget, how many profits did he make for directors:\n",
    "  ( christopher_nolan vs james_cameron )?\n",
    "\n",
    "7- What is the most productive film company?\n",
    "\n",
    "8- What is the total revenue, profit and budget of the most powerful company in the film industry?\n",
    "\n",
    "9- How many characters have been performed from 1960-2015 ?\n",
    "\n",
    "10-Who were the 10 actors that earned the most roles?\n",
    "\n",
    "11- How many movies were made and produced under each genre ?\n",
    "\n",
    "12- In the years of the new millennium, what is the role of comedy in filmmaking?\n",
    "\n",
    "## The data will go through three basic stages:\n",
    "\n",
    "1) Read it and explore the gaps\n",
    "\n",
    "2) Data cleaning and processing\n",
    "\n",
    "3) Adding the necessary data to analyze the data and conduct the census\n",
    "\n"
   ]
  },
  {
   "cell_type": "markdown",
   "metadata": {
    "slideshow": {
     "slide_type": "slide"
    }
   },
   "source": [
    "## First Step, Read the data in Python :"
   ]
  },
  {
   "cell_type": "code",
   "execution_count": 1,
   "metadata": {},
   "outputs": [],
   "source": [
    "import pandas as pd\n",
    "import numpy as np\n",
    "import matplotlib.pyplot as plt\n",
    "import seaborn as sns"
   ]
  },
  {
   "cell_type": "code",
   "execution_count": 2,
   "metadata": {
    "slideshow": {
     "slide_type": "slide"
    }
   },
   "outputs": [
    {
     "data": {
      "text/html": [
       "<div>\n",
       "<style scoped>\n",
       "    .dataframe tbody tr th:only-of-type {\n",
       "        vertical-align: middle;\n",
       "    }\n",
       "\n",
       "    .dataframe tbody tr th {\n",
       "        vertical-align: top;\n",
       "    }\n",
       "\n",
       "    .dataframe thead th {\n",
       "        text-align: right;\n",
       "    }\n",
       "</style>\n",
       "<table border=\"1\" class=\"dataframe\">\n",
       "  <thead>\n",
       "    <tr style=\"text-align: right;\">\n",
       "      <th></th>\n",
       "      <th>id</th>\n",
       "      <th>imdb_id</th>\n",
       "      <th>popularity</th>\n",
       "      <th>budget</th>\n",
       "      <th>revenue</th>\n",
       "      <th>original_title</th>\n",
       "      <th>cast</th>\n",
       "      <th>homepage</th>\n",
       "      <th>director</th>\n",
       "      <th>tagline</th>\n",
       "      <th>...</th>\n",
       "      <th>overview</th>\n",
       "      <th>runtime</th>\n",
       "      <th>genres</th>\n",
       "      <th>production_companies</th>\n",
       "      <th>release_date</th>\n",
       "      <th>vote_count</th>\n",
       "      <th>vote_average</th>\n",
       "      <th>release_year</th>\n",
       "      <th>budget_adj</th>\n",
       "      <th>revenue_adj</th>\n",
       "    </tr>\n",
       "  </thead>\n",
       "  <tbody>\n",
       "    <tr>\n",
       "      <th>0</th>\n",
       "      <td>135397</td>\n",
       "      <td>tt0369610</td>\n",
       "      <td>32.985763</td>\n",
       "      <td>150000000</td>\n",
       "      <td>1513528810</td>\n",
       "      <td>Jurassic World</td>\n",
       "      <td>Chris Pratt|Bryce Dallas Howard|Irrfan Khan|Vi...</td>\n",
       "      <td>http://www.jurassicworld.com/</td>\n",
       "      <td>Colin Trevorrow</td>\n",
       "      <td>The park is open.</td>\n",
       "      <td>...</td>\n",
       "      <td>Twenty-two years after the events of Jurassic ...</td>\n",
       "      <td>124</td>\n",
       "      <td>Action|Adventure|Science Fiction|Thriller</td>\n",
       "      <td>Universal Studios|Amblin Entertainment|Legenda...</td>\n",
       "      <td>6/9/15</td>\n",
       "      <td>5562</td>\n",
       "      <td>6.5</td>\n",
       "      <td>2015</td>\n",
       "      <td>1.379999e+08</td>\n",
       "      <td>1.392446e+09</td>\n",
       "    </tr>\n",
       "    <tr>\n",
       "      <th>1</th>\n",
       "      <td>76341</td>\n",
       "      <td>tt1392190</td>\n",
       "      <td>28.419936</td>\n",
       "      <td>150000000</td>\n",
       "      <td>378436354</td>\n",
       "      <td>Mad Max: Fury Road</td>\n",
       "      <td>Tom Hardy|Charlize Theron|Hugh Keays-Byrne|Nic...</td>\n",
       "      <td>http://www.madmaxmovie.com/</td>\n",
       "      <td>George Miller</td>\n",
       "      <td>What a Lovely Day.</td>\n",
       "      <td>...</td>\n",
       "      <td>An apocalyptic story set in the furthest reach...</td>\n",
       "      <td>120</td>\n",
       "      <td>Action|Adventure|Science Fiction|Thriller</td>\n",
       "      <td>Village Roadshow Pictures|Kennedy Miller Produ...</td>\n",
       "      <td>5/13/15</td>\n",
       "      <td>6185</td>\n",
       "      <td>7.1</td>\n",
       "      <td>2015</td>\n",
       "      <td>1.379999e+08</td>\n",
       "      <td>3.481613e+08</td>\n",
       "    </tr>\n",
       "    <tr>\n",
       "      <th>2</th>\n",
       "      <td>262500</td>\n",
       "      <td>tt2908446</td>\n",
       "      <td>13.112507</td>\n",
       "      <td>110000000</td>\n",
       "      <td>295238201</td>\n",
       "      <td>Insurgent</td>\n",
       "      <td>Shailene Woodley|Theo James|Kate Winslet|Ansel...</td>\n",
       "      <td>http://www.thedivergentseries.movie/#insurgent</td>\n",
       "      <td>Robert Schwentke</td>\n",
       "      <td>One Choice Can Destroy You</td>\n",
       "      <td>...</td>\n",
       "      <td>Beatrice Prior must confront her inner demons ...</td>\n",
       "      <td>119</td>\n",
       "      <td>Adventure|Science Fiction|Thriller</td>\n",
       "      <td>Summit Entertainment|Mandeville Films|Red Wago...</td>\n",
       "      <td>3/18/15</td>\n",
       "      <td>2480</td>\n",
       "      <td>6.3</td>\n",
       "      <td>2015</td>\n",
       "      <td>1.012000e+08</td>\n",
       "      <td>2.716190e+08</td>\n",
       "    </tr>\n",
       "  </tbody>\n",
       "</table>\n",
       "<p>3 rows × 21 columns</p>\n",
       "</div>"
      ],
      "text/plain": [
       "       id    imdb_id  popularity     budget     revenue      original_title  \\\n",
       "0  135397  tt0369610   32.985763  150000000  1513528810      Jurassic World   \n",
       "1   76341  tt1392190   28.419936  150000000   378436354  Mad Max: Fury Road   \n",
       "2  262500  tt2908446   13.112507  110000000   295238201           Insurgent   \n",
       "\n",
       "                                                cast  \\\n",
       "0  Chris Pratt|Bryce Dallas Howard|Irrfan Khan|Vi...   \n",
       "1  Tom Hardy|Charlize Theron|Hugh Keays-Byrne|Nic...   \n",
       "2  Shailene Woodley|Theo James|Kate Winslet|Ansel...   \n",
       "\n",
       "                                         homepage          director  \\\n",
       "0                   http://www.jurassicworld.com/   Colin Trevorrow   \n",
       "1                     http://www.madmaxmovie.com/     George Miller   \n",
       "2  http://www.thedivergentseries.movie/#insurgent  Robert Schwentke   \n",
       "\n",
       "                      tagline  ...  \\\n",
       "0           The park is open.  ...   \n",
       "1          What a Lovely Day.  ...   \n",
       "2  One Choice Can Destroy You  ...   \n",
       "\n",
       "                                            overview runtime  \\\n",
       "0  Twenty-two years after the events of Jurassic ...     124   \n",
       "1  An apocalyptic story set in the furthest reach...     120   \n",
       "2  Beatrice Prior must confront her inner demons ...     119   \n",
       "\n",
       "                                      genres  \\\n",
       "0  Action|Adventure|Science Fiction|Thriller   \n",
       "1  Action|Adventure|Science Fiction|Thriller   \n",
       "2         Adventure|Science Fiction|Thriller   \n",
       "\n",
       "                                production_companies release_date vote_count  \\\n",
       "0  Universal Studios|Amblin Entertainment|Legenda...       6/9/15       5562   \n",
       "1  Village Roadshow Pictures|Kennedy Miller Produ...      5/13/15       6185   \n",
       "2  Summit Entertainment|Mandeville Films|Red Wago...      3/18/15       2480   \n",
       "\n",
       "   vote_average  release_year    budget_adj   revenue_adj  \n",
       "0           6.5          2015  1.379999e+08  1.392446e+09  \n",
       "1           7.1          2015  1.379999e+08  3.481613e+08  \n",
       "2           6.3          2015  1.012000e+08  2.716190e+08  \n",
       "\n",
       "[3 rows x 21 columns]"
      ]
     },
     "execution_count": 2,
     "metadata": {},
     "output_type": "execute_result"
    }
   ],
   "source": [
    "data =pd.read_csv(\"tmdb_movies.csv\")\n",
    "data.head(3)"
   ]
  },
  {
   "cell_type": "markdown",
   "metadata": {},
   "source": [
    "## Second Step:\n",
    "\n",
    "Start preparing the data to be processed with the following,\n",
    "I review columns to determine what is necessary and useful and what is not important in data analysis\n",
    "Also look for the missing values"
   ]
  },
  {
   "cell_type": "code",
   "execution_count": 3,
   "metadata": {},
   "outputs": [
    {
     "data": {
      "text/plain": [
       "Index(['id', 'imdb_id', 'popularity', 'budget', 'revenue', 'original_title',\n",
       "       'cast', 'homepage', 'director', 'tagline', 'keywords', 'overview',\n",
       "       'runtime', 'genres', 'production_companies', 'release_date',\n",
       "       'vote_count', 'vote_average', 'release_year', 'budget_adj',\n",
       "       'revenue_adj'],\n",
       "      dtype='object')"
      ]
     },
     "execution_count": 3,
     "metadata": {},
     "output_type": "execute_result"
    }
   ],
   "source": [
    "data.columns"
   ]
  },
  {
   "cell_type": "code",
   "execution_count": 4,
   "metadata": {},
   "outputs": [
    {
     "name": "stdout",
     "output_type": "stream",
     "text": [
      "<class 'pandas.core.frame.DataFrame'>\n",
      "RangeIndex: 10866 entries, 0 to 10865\n",
      "Data columns (total 21 columns):\n",
      " #   Column                Non-Null Count  Dtype  \n",
      "---  ------                --------------  -----  \n",
      " 0   id                    10866 non-null  int64  \n",
      " 1   imdb_id               10856 non-null  object \n",
      " 2   popularity            10866 non-null  float64\n",
      " 3   budget                10866 non-null  int64  \n",
      " 4   revenue               10866 non-null  int64  \n",
      " 5   original_title        10866 non-null  object \n",
      " 6   cast                  10790 non-null  object \n",
      " 7   homepage              2936 non-null   object \n",
      " 8   director              10822 non-null  object \n",
      " 9   tagline               8042 non-null   object \n",
      " 10  keywords              9373 non-null   object \n",
      " 11  overview              10862 non-null  object \n",
      " 12  runtime               10866 non-null  int64  \n",
      " 13  genres                10843 non-null  object \n",
      " 14  production_companies  9836 non-null   object \n",
      " 15  release_date          10866 non-null  object \n",
      " 16  vote_count            10866 non-null  int64  \n",
      " 17  vote_average          10866 non-null  float64\n",
      " 18  release_year          10866 non-null  int64  \n",
      " 19  budget_adj            10866 non-null  float64\n",
      " 20  revenue_adj           10866 non-null  float64\n",
      "dtypes: float64(4), int64(6), object(11)\n",
      "memory usage: 1.7+ MB\n"
     ]
    }
   ],
   "source": [
    "data.info()"
   ]
  },
  {
   "cell_type": "markdown",
   "metadata": {},
   "source": [
    "#### From the data above I noticed that in this project I don't need each of the following columns:id ،homepage ، tagline، keywords،overview،imdb_id،release_date،revenue_adj ، budget_adj , Also there is some lost data, so the data will now be cleaned and processed\n"
   ]
  },
  {
   "cell_type": "code",
   "execution_count": 5,
   "metadata": {},
   "outputs": [
    {
     "data": {
      "text/html": [
       "<div>\n",
       "<style scoped>\n",
       "    .dataframe tbody tr th:only-of-type {\n",
       "        vertical-align: middle;\n",
       "    }\n",
       "\n",
       "    .dataframe tbody tr th {\n",
       "        vertical-align: top;\n",
       "    }\n",
       "\n",
       "    .dataframe thead th {\n",
       "        text-align: right;\n",
       "    }\n",
       "</style>\n",
       "<table border=\"1\" class=\"dataframe\">\n",
       "  <thead>\n",
       "    <tr style=\"text-align: right;\">\n",
       "      <th></th>\n",
       "      <th>popularity</th>\n",
       "      <th>budget</th>\n",
       "      <th>revenue</th>\n",
       "      <th>original_title</th>\n",
       "      <th>cast</th>\n",
       "      <th>director</th>\n",
       "      <th>runtime</th>\n",
       "      <th>genres</th>\n",
       "      <th>production_companies</th>\n",
       "      <th>vote_count</th>\n",
       "      <th>vote_average</th>\n",
       "      <th>release_year</th>\n",
       "    </tr>\n",
       "  </thead>\n",
       "  <tbody>\n",
       "    <tr>\n",
       "      <th>0</th>\n",
       "      <td>32.985763</td>\n",
       "      <td>150000000</td>\n",
       "      <td>1513528810</td>\n",
       "      <td>Jurassic World</td>\n",
       "      <td>Chris Pratt|Bryce Dallas Howard|Irrfan Khan|Vi...</td>\n",
       "      <td>Colin Trevorrow</td>\n",
       "      <td>124</td>\n",
       "      <td>Action|Adventure|Science Fiction|Thriller</td>\n",
       "      <td>Universal Studios|Amblin Entertainment|Legenda...</td>\n",
       "      <td>5562</td>\n",
       "      <td>6.5</td>\n",
       "      <td>2015</td>\n",
       "    </tr>\n",
       "    <tr>\n",
       "      <th>1</th>\n",
       "      <td>28.419936</td>\n",
       "      <td>150000000</td>\n",
       "      <td>378436354</td>\n",
       "      <td>Mad Max: Fury Road</td>\n",
       "      <td>Tom Hardy|Charlize Theron|Hugh Keays-Byrne|Nic...</td>\n",
       "      <td>George Miller</td>\n",
       "      <td>120</td>\n",
       "      <td>Action|Adventure|Science Fiction|Thriller</td>\n",
       "      <td>Village Roadshow Pictures|Kennedy Miller Produ...</td>\n",
       "      <td>6185</td>\n",
       "      <td>7.1</td>\n",
       "      <td>2015</td>\n",
       "    </tr>\n",
       "    <tr>\n",
       "      <th>2</th>\n",
       "      <td>13.112507</td>\n",
       "      <td>110000000</td>\n",
       "      <td>295238201</td>\n",
       "      <td>Insurgent</td>\n",
       "      <td>Shailene Woodley|Theo James|Kate Winslet|Ansel...</td>\n",
       "      <td>Robert Schwentke</td>\n",
       "      <td>119</td>\n",
       "      <td>Adventure|Science Fiction|Thriller</td>\n",
       "      <td>Summit Entertainment|Mandeville Films|Red Wago...</td>\n",
       "      <td>2480</td>\n",
       "      <td>6.3</td>\n",
       "      <td>2015</td>\n",
       "    </tr>\n",
       "  </tbody>\n",
       "</table>\n",
       "</div>"
      ],
      "text/plain": [
       "   popularity     budget     revenue      original_title  \\\n",
       "0   32.985763  150000000  1513528810      Jurassic World   \n",
       "1   28.419936  150000000   378436354  Mad Max: Fury Road   \n",
       "2   13.112507  110000000   295238201           Insurgent   \n",
       "\n",
       "                                                cast          director  \\\n",
       "0  Chris Pratt|Bryce Dallas Howard|Irrfan Khan|Vi...   Colin Trevorrow   \n",
       "1  Tom Hardy|Charlize Theron|Hugh Keays-Byrne|Nic...     George Miller   \n",
       "2  Shailene Woodley|Theo James|Kate Winslet|Ansel...  Robert Schwentke   \n",
       "\n",
       "   runtime                                     genres  \\\n",
       "0      124  Action|Adventure|Science Fiction|Thriller   \n",
       "1      120  Action|Adventure|Science Fiction|Thriller   \n",
       "2      119         Adventure|Science Fiction|Thriller   \n",
       "\n",
       "                                production_companies  vote_count  \\\n",
       "0  Universal Studios|Amblin Entertainment|Legenda...        5562   \n",
       "1  Village Roadshow Pictures|Kennedy Miller Produ...        6185   \n",
       "2  Summit Entertainment|Mandeville Films|Red Wago...        2480   \n",
       "\n",
       "   vote_average  release_year  \n",
       "0           6.5          2015  \n",
       "1           7.1          2015  \n",
       "2           6.3          2015  "
      ]
     },
     "execution_count": 5,
     "metadata": {},
     "output_type": "execute_result"
    }
   ],
   "source": [
    "\n",
    "data_movies=data.drop(['id', 'homepage', 'tagline', 'keywords', 'overview', 'imdb_id','release_date','revenue_adj','budget_adj'], axis=1)\n",
    "data_movies[['production_companies','director','cast','genres']].replace(0,np.NAN)\n",
    "data_movies.dropna(subset=['production_companies','director','cast','genres'], inplace=True)\n",
    "data_movies.head(3)"
   ]
  },
  {
   "cell_type": "markdown",
   "metadata": {},
   "source": [
    "## The third step: \n",
    "We start adding some very important columns in data analysis. In fact, I need two new columns, \n",
    "\n",
    "which are \"profit\" and \"ratio \"\n",
    "\n",
    "We start first with profits: How profits are generally calculated in statistics.\n",
    "profit=(revenue - budget)\n",
    "We apply the Python revenue calculation method and then insert the column into the main table"
   ]
  },
  {
   "cell_type": "code",
   "execution_count": 6,
   "metadata": {},
   "outputs": [
    {
     "data": {
      "text/html": [
       "<div>\n",
       "<style scoped>\n",
       "    .dataframe tbody tr th:only-of-type {\n",
       "        vertical-align: middle;\n",
       "    }\n",
       "\n",
       "    .dataframe tbody tr th {\n",
       "        vertical-align: top;\n",
       "    }\n",
       "\n",
       "    .dataframe thead th {\n",
       "        text-align: right;\n",
       "    }\n",
       "</style>\n",
       "<table border=\"1\" class=\"dataframe\">\n",
       "  <thead>\n",
       "    <tr style=\"text-align: right;\">\n",
       "      <th></th>\n",
       "      <th>popularity</th>\n",
       "      <th>budget</th>\n",
       "      <th>revenue</th>\n",
       "      <th>original_title</th>\n",
       "      <th>cast</th>\n",
       "      <th>director</th>\n",
       "      <th>runtime</th>\n",
       "      <th>genres</th>\n",
       "      <th>production_companies</th>\n",
       "      <th>vote_count</th>\n",
       "      <th>vote_average</th>\n",
       "      <th>release_year</th>\n",
       "      <th>profit</th>\n",
       "      <th>ratio</th>\n",
       "    </tr>\n",
       "  </thead>\n",
       "  <tbody>\n",
       "    <tr>\n",
       "      <th>0</th>\n",
       "      <td>32.985763</td>\n",
       "      <td>150000000</td>\n",
       "      <td>1513528810</td>\n",
       "      <td>Jurassic World</td>\n",
       "      <td>Chris Pratt|Bryce Dallas Howard|Irrfan Khan|Vi...</td>\n",
       "      <td>Colin Trevorrow</td>\n",
       "      <td>124</td>\n",
       "      <td>Action|Adventure|Science Fiction|Thriller</td>\n",
       "      <td>Universal Studios|Amblin Entertainment|Legenda...</td>\n",
       "      <td>5562</td>\n",
       "      <td>6.5</td>\n",
       "      <td>2015</td>\n",
       "      <td>1363528810</td>\n",
       "      <td>1009.019207</td>\n",
       "    </tr>\n",
       "    <tr>\n",
       "      <th>1</th>\n",
       "      <td>28.419936</td>\n",
       "      <td>150000000</td>\n",
       "      <td>378436354</td>\n",
       "      <td>Mad Max: Fury Road</td>\n",
       "      <td>Tom Hardy|Charlize Theron|Hugh Keays-Byrne|Nic...</td>\n",
       "      <td>George Miller</td>\n",
       "      <td>120</td>\n",
       "      <td>Action|Adventure|Science Fiction|Thriller</td>\n",
       "      <td>Village Roadshow Pictures|Kennedy Miller Produ...</td>\n",
       "      <td>6185</td>\n",
       "      <td>7.1</td>\n",
       "      <td>2015</td>\n",
       "      <td>228436354</td>\n",
       "      <td>252.290903</td>\n",
       "    </tr>\n",
       "    <tr>\n",
       "      <th>2</th>\n",
       "      <td>13.112507</td>\n",
       "      <td>110000000</td>\n",
       "      <td>295238201</td>\n",
       "      <td>Insurgent</td>\n",
       "      <td>Shailene Woodley|Theo James|Kate Winslet|Ansel...</td>\n",
       "      <td>Robert Schwentke</td>\n",
       "      <td>119</td>\n",
       "      <td>Adventure|Science Fiction|Thriller</td>\n",
       "      <td>Summit Entertainment|Mandeville Films|Red Wago...</td>\n",
       "      <td>2480</td>\n",
       "      <td>6.3</td>\n",
       "      <td>2015</td>\n",
       "      <td>185238201</td>\n",
       "      <td>268.398365</td>\n",
       "    </tr>\n",
       "  </tbody>\n",
       "</table>\n",
       "</div>"
      ],
      "text/plain": [
       "   popularity     budget     revenue      original_title  \\\n",
       "0   32.985763  150000000  1513528810      Jurassic World   \n",
       "1   28.419936  150000000   378436354  Mad Max: Fury Road   \n",
       "2   13.112507  110000000   295238201           Insurgent   \n",
       "\n",
       "                                                cast          director  \\\n",
       "0  Chris Pratt|Bryce Dallas Howard|Irrfan Khan|Vi...   Colin Trevorrow   \n",
       "1  Tom Hardy|Charlize Theron|Hugh Keays-Byrne|Nic...     George Miller   \n",
       "2  Shailene Woodley|Theo James|Kate Winslet|Ansel...  Robert Schwentke   \n",
       "\n",
       "   runtime                                     genres  \\\n",
       "0      124  Action|Adventure|Science Fiction|Thriller   \n",
       "1      120  Action|Adventure|Science Fiction|Thriller   \n",
       "2      119         Adventure|Science Fiction|Thriller   \n",
       "\n",
       "                                production_companies  vote_count  \\\n",
       "0  Universal Studios|Amblin Entertainment|Legenda...        5562   \n",
       "1  Village Roadshow Pictures|Kennedy Miller Produ...        6185   \n",
       "2  Summit Entertainment|Mandeville Films|Red Wago...        2480   \n",
       "\n",
       "   vote_average  release_year      profit        ratio  \n",
       "0           6.5          2015  1363528810  1009.019207  \n",
       "1           7.1          2015   228436354   252.290903  \n",
       "2           6.3          2015   185238201   268.398365  "
      ]
     },
     "execution_count": 6,
     "metadata": {},
     "output_type": "execute_result"
    }
   ],
   "source": [
    "profit=(data_movies.revenue - data_movies.budget)\n",
    "profit=pd.DataFrame(profit)\n",
    "profit.columns=['profit']\n",
    "data_movies['profit']=profit\n",
    "\n",
    "ratio=(data_movies.revenue / data_movies.budget)*100\n",
    "ratio=pd.DataFrame(ratio)\n",
    "ratio.columns=['ratio'] \n",
    "data_movies['ratio']=ratio\n",
    "\n",
    "data_movies.head(3)"
   ]
  },
  {
   "cell_type": "markdown",
   "metadata": {},
   "source": [
    "\n",
    "\n",
    "\n",
    "### ـ   Let's start now with the best three stories:\n",
    "the beautiful thing about statistics is that the stories are variable, meaning that every time you change the search filter, a different story will appear to us from the previous one.\n",
    "\n",
    "\n"
   ]
  },
  {
   "cell_type": "markdown",
   "metadata": {},
   "source": [
    "![](kh2.jpg)"
   ]
  },
  {
   "cell_type": "markdown",
   "metadata": {},
   "source": [
    "\n",
    "Now with the important question:\n",
    "### 1- What are the top ten films according to the revenue list?"
   ]
  },
  {
   "cell_type": "code",
   "execution_count": 8,
   "metadata": {},
   "outputs": [
    {
     "data": {
      "text/html": [
       "<div>\n",
       "<style scoped>\n",
       "    .dataframe tbody tr th:only-of-type {\n",
       "        vertical-align: middle;\n",
       "    }\n",
       "\n",
       "    .dataframe tbody tr th {\n",
       "        vertical-align: top;\n",
       "    }\n",
       "\n",
       "    .dataframe thead th {\n",
       "        text-align: right;\n",
       "    }\n",
       "</style>\n",
       "<table border=\"1\" class=\"dataframe\">\n",
       "  <thead>\n",
       "    <tr style=\"text-align: right;\">\n",
       "      <th></th>\n",
       "      <th>popularity</th>\n",
       "      <th>budget</th>\n",
       "      <th>revenue</th>\n",
       "      <th>original_title</th>\n",
       "      <th>cast</th>\n",
       "      <th>director</th>\n",
       "      <th>runtime</th>\n",
       "      <th>genres</th>\n",
       "      <th>production_companies</th>\n",
       "      <th>vote_count</th>\n",
       "      <th>vote_average</th>\n",
       "      <th>release_year</th>\n",
       "      <th>profit</th>\n",
       "      <th>ratio</th>\n",
       "    </tr>\n",
       "  </thead>\n",
       "  <tbody>\n",
       "    <tr>\n",
       "      <th>1386</th>\n",
       "      <td>9.432768</td>\n",
       "      <td>237000000</td>\n",
       "      <td>2781505847</td>\n",
       "      <td>Avatar</td>\n",
       "      <td>Sam Worthington|Zoe Saldana|Sigourney Weaver|S...</td>\n",
       "      <td>James Cameron</td>\n",
       "      <td>162</td>\n",
       "      <td>Action|Adventure|Fantasy|Science Fiction</td>\n",
       "      <td>Ingenious Film Partners|Twentieth Century Fox ...</td>\n",
       "      <td>8458</td>\n",
       "      <td>7.1</td>\n",
       "      <td>2009</td>\n",
       "      <td>2544505847</td>\n",
       "      <td>1173.631159</td>\n",
       "    </tr>\n",
       "    <tr>\n",
       "      <th>3</th>\n",
       "      <td>11.173104</td>\n",
       "      <td>200000000</td>\n",
       "      <td>2068178225</td>\n",
       "      <td>Star Wars: The Force Awakens</td>\n",
       "      <td>Harrison Ford|Mark Hamill|Carrie Fisher|Adam D...</td>\n",
       "      <td>J.J. Abrams</td>\n",
       "      <td>136</td>\n",
       "      <td>Action|Adventure|Science Fiction|Fantasy</td>\n",
       "      <td>Lucasfilm|Truenorth Productions|Bad Robot</td>\n",
       "      <td>5292</td>\n",
       "      <td>7.5</td>\n",
       "      <td>2015</td>\n",
       "      <td>1868178225</td>\n",
       "      <td>1034.089113</td>\n",
       "    </tr>\n",
       "    <tr>\n",
       "      <th>5231</th>\n",
       "      <td>4.355219</td>\n",
       "      <td>200000000</td>\n",
       "      <td>1845034188</td>\n",
       "      <td>Titanic</td>\n",
       "      <td>Kate Winslet|Leonardo DiCaprio|Frances Fisher|...</td>\n",
       "      <td>James Cameron</td>\n",
       "      <td>194</td>\n",
       "      <td>Drama|Romance|Thriller</td>\n",
       "      <td>Paramount Pictures|Twentieth Century Fox Film ...</td>\n",
       "      <td>4654</td>\n",
       "      <td>7.3</td>\n",
       "      <td>1997</td>\n",
       "      <td>1645034188</td>\n",
       "      <td>922.517094</td>\n",
       "    </tr>\n",
       "    <tr>\n",
       "      <th>4361</th>\n",
       "      <td>7.637767</td>\n",
       "      <td>220000000</td>\n",
       "      <td>1519557910</td>\n",
       "      <td>The Avengers</td>\n",
       "      <td>Robert Downey Jr.|Chris Evans|Mark Ruffalo|Chr...</td>\n",
       "      <td>Joss Whedon</td>\n",
       "      <td>143</td>\n",
       "      <td>Science Fiction|Action|Adventure</td>\n",
       "      <td>Marvel Studios</td>\n",
       "      <td>8903</td>\n",
       "      <td>7.3</td>\n",
       "      <td>2012</td>\n",
       "      <td>1299557910</td>\n",
       "      <td>690.708141</td>\n",
       "    </tr>\n",
       "    <tr>\n",
       "      <th>0</th>\n",
       "      <td>32.985763</td>\n",
       "      <td>150000000</td>\n",
       "      <td>1513528810</td>\n",
       "      <td>Jurassic World</td>\n",
       "      <td>Chris Pratt|Bryce Dallas Howard|Irrfan Khan|Vi...</td>\n",
       "      <td>Colin Trevorrow</td>\n",
       "      <td>124</td>\n",
       "      <td>Action|Adventure|Science Fiction|Thriller</td>\n",
       "      <td>Universal Studios|Amblin Entertainment|Legenda...</td>\n",
       "      <td>5562</td>\n",
       "      <td>6.5</td>\n",
       "      <td>2015</td>\n",
       "      <td>1363528810</td>\n",
       "      <td>1009.019207</td>\n",
       "    </tr>\n",
       "    <tr>\n",
       "      <th>4</th>\n",
       "      <td>9.335014</td>\n",
       "      <td>190000000</td>\n",
       "      <td>1506249360</td>\n",
       "      <td>Furious 7</td>\n",
       "      <td>Vin Diesel|Paul Walker|Jason Statham|Michelle ...</td>\n",
       "      <td>James Wan</td>\n",
       "      <td>137</td>\n",
       "      <td>Action|Crime|Thriller</td>\n",
       "      <td>Universal Pictures|Original Film|Media Rights ...</td>\n",
       "      <td>2947</td>\n",
       "      <td>7.3</td>\n",
       "      <td>2015</td>\n",
       "      <td>1316249360</td>\n",
       "      <td>792.762821</td>\n",
       "    </tr>\n",
       "    <tr>\n",
       "      <th>14</th>\n",
       "      <td>5.944927</td>\n",
       "      <td>280000000</td>\n",
       "      <td>1405035767</td>\n",
       "      <td>Avengers: Age of Ultron</td>\n",
       "      <td>Robert Downey Jr.|Chris Hemsworth|Mark Ruffalo...</td>\n",
       "      <td>Joss Whedon</td>\n",
       "      <td>141</td>\n",
       "      <td>Action|Adventure|Science Fiction</td>\n",
       "      <td>Marvel Studios|Prime Focus|Revolution Sun Studios</td>\n",
       "      <td>4304</td>\n",
       "      <td>7.4</td>\n",
       "      <td>2015</td>\n",
       "      <td>1125035767</td>\n",
       "      <td>501.798488</td>\n",
       "    </tr>\n",
       "    <tr>\n",
       "      <th>3374</th>\n",
       "      <td>5.711315</td>\n",
       "      <td>125000000</td>\n",
       "      <td>1327817822</td>\n",
       "      <td>Harry Potter and the Deathly Hallows: Part 2</td>\n",
       "      <td>Daniel Radcliffe|Rupert Grint|Emma Watson|Alan...</td>\n",
       "      <td>David Yates</td>\n",
       "      <td>130</td>\n",
       "      <td>Adventure|Family|Fantasy</td>\n",
       "      <td>Warner Bros.|Heyday Films|Moving Picture Compa...</td>\n",
       "      <td>3750</td>\n",
       "      <td>7.7</td>\n",
       "      <td>2011</td>\n",
       "      <td>1202817822</td>\n",
       "      <td>1062.254258</td>\n",
       "    </tr>\n",
       "    <tr>\n",
       "      <th>5422</th>\n",
       "      <td>6.112766</td>\n",
       "      <td>150000000</td>\n",
       "      <td>1274219009</td>\n",
       "      <td>Frozen</td>\n",
       "      <td>Kristen Bell|Idina Menzel|Jonathan Groff|Josh ...</td>\n",
       "      <td>Chris Buck|Jennifer Lee</td>\n",
       "      <td>102</td>\n",
       "      <td>Animation|Adventure|Family</td>\n",
       "      <td>Walt Disney Pictures|Walt Disney Animation Stu...</td>\n",
       "      <td>3369</td>\n",
       "      <td>7.5</td>\n",
       "      <td>2013</td>\n",
       "      <td>1124219009</td>\n",
       "      <td>849.479339</td>\n",
       "    </tr>\n",
       "    <tr>\n",
       "      <th>5425</th>\n",
       "      <td>4.946136</td>\n",
       "      <td>200000000</td>\n",
       "      <td>1215439994</td>\n",
       "      <td>Iron Man 3</td>\n",
       "      <td>Robert Downey Jr.|Gwyneth Paltrow|Guy Pearce|D...</td>\n",
       "      <td>Shane Black</td>\n",
       "      <td>130</td>\n",
       "      <td>Action|Adventure|Science Fiction</td>\n",
       "      <td>Marvel Studios</td>\n",
       "      <td>6882</td>\n",
       "      <td>6.9</td>\n",
       "      <td>2013</td>\n",
       "      <td>1015439994</td>\n",
       "      <td>607.719997</td>\n",
       "    </tr>\n",
       "  </tbody>\n",
       "</table>\n",
       "</div>"
      ],
      "text/plain": [
       "      popularity     budget     revenue  \\\n",
       "1386    9.432768  237000000  2781505847   \n",
       "3      11.173104  200000000  2068178225   \n",
       "5231    4.355219  200000000  1845034188   \n",
       "4361    7.637767  220000000  1519557910   \n",
       "0      32.985763  150000000  1513528810   \n",
       "4       9.335014  190000000  1506249360   \n",
       "14      5.944927  280000000  1405035767   \n",
       "3374    5.711315  125000000  1327817822   \n",
       "5422    6.112766  150000000  1274219009   \n",
       "5425    4.946136  200000000  1215439994   \n",
       "\n",
       "                                    original_title  \\\n",
       "1386                                        Avatar   \n",
       "3                     Star Wars: The Force Awakens   \n",
       "5231                                       Titanic   \n",
       "4361                                  The Avengers   \n",
       "0                                   Jurassic World   \n",
       "4                                        Furious 7   \n",
       "14                         Avengers: Age of Ultron   \n",
       "3374  Harry Potter and the Deathly Hallows: Part 2   \n",
       "5422                                        Frozen   \n",
       "5425                                    Iron Man 3   \n",
       "\n",
       "                                                   cast  \\\n",
       "1386  Sam Worthington|Zoe Saldana|Sigourney Weaver|S...   \n",
       "3     Harrison Ford|Mark Hamill|Carrie Fisher|Adam D...   \n",
       "5231  Kate Winslet|Leonardo DiCaprio|Frances Fisher|...   \n",
       "4361  Robert Downey Jr.|Chris Evans|Mark Ruffalo|Chr...   \n",
       "0     Chris Pratt|Bryce Dallas Howard|Irrfan Khan|Vi...   \n",
       "4     Vin Diesel|Paul Walker|Jason Statham|Michelle ...   \n",
       "14    Robert Downey Jr.|Chris Hemsworth|Mark Ruffalo...   \n",
       "3374  Daniel Radcliffe|Rupert Grint|Emma Watson|Alan...   \n",
       "5422  Kristen Bell|Idina Menzel|Jonathan Groff|Josh ...   \n",
       "5425  Robert Downey Jr.|Gwyneth Paltrow|Guy Pearce|D...   \n",
       "\n",
       "                     director  runtime  \\\n",
       "1386            James Cameron      162   \n",
       "3                 J.J. Abrams      136   \n",
       "5231            James Cameron      194   \n",
       "4361              Joss Whedon      143   \n",
       "0             Colin Trevorrow      124   \n",
       "4                   James Wan      137   \n",
       "14                Joss Whedon      141   \n",
       "3374              David Yates      130   \n",
       "5422  Chris Buck|Jennifer Lee      102   \n",
       "5425              Shane Black      130   \n",
       "\n",
       "                                         genres  \\\n",
       "1386   Action|Adventure|Fantasy|Science Fiction   \n",
       "3      Action|Adventure|Science Fiction|Fantasy   \n",
       "5231                     Drama|Romance|Thriller   \n",
       "4361           Science Fiction|Action|Adventure   \n",
       "0     Action|Adventure|Science Fiction|Thriller   \n",
       "4                         Action|Crime|Thriller   \n",
       "14             Action|Adventure|Science Fiction   \n",
       "3374                   Adventure|Family|Fantasy   \n",
       "5422                 Animation|Adventure|Family   \n",
       "5425           Action|Adventure|Science Fiction   \n",
       "\n",
       "                                   production_companies  vote_count  \\\n",
       "1386  Ingenious Film Partners|Twentieth Century Fox ...        8458   \n",
       "3             Lucasfilm|Truenorth Productions|Bad Robot        5292   \n",
       "5231  Paramount Pictures|Twentieth Century Fox Film ...        4654   \n",
       "4361                                     Marvel Studios        8903   \n",
       "0     Universal Studios|Amblin Entertainment|Legenda...        5562   \n",
       "4     Universal Pictures|Original Film|Media Rights ...        2947   \n",
       "14    Marvel Studios|Prime Focus|Revolution Sun Studios        4304   \n",
       "3374  Warner Bros.|Heyday Films|Moving Picture Compa...        3750   \n",
       "5422  Walt Disney Pictures|Walt Disney Animation Stu...        3369   \n",
       "5425                                     Marvel Studios        6882   \n",
       "\n",
       "      vote_average  release_year      profit        ratio  \n",
       "1386           7.1          2009  2544505847  1173.631159  \n",
       "3              7.5          2015  1868178225  1034.089113  \n",
       "5231           7.3          1997  1645034188   922.517094  \n",
       "4361           7.3          2012  1299557910   690.708141  \n",
       "0              6.5          2015  1363528810  1009.019207  \n",
       "4              7.3          2015  1316249360   792.762821  \n",
       "14             7.4          2015  1125035767   501.798488  \n",
       "3374           7.7          2011  1202817822  1062.254258  \n",
       "5422           7.5          2013  1124219009   849.479339  \n",
       "5425           6.9          2013  1015439994   607.719997  "
      ]
     },
     "execution_count": 8,
     "metadata": {},
     "output_type": "execute_result"
    }
   ],
   "source": [
    "top_ten=data_movies.sort_values('revenue',ascending=False).head(10)\n",
    "top_ten"
   ]
  },
  {
   "cell_type": "code",
   "execution_count": 12,
   "metadata": {},
   "outputs": [
    {
     "name": "stderr",
     "output_type": "stream",
     "text": [
      "/Users/losh/opt/anaconda3/lib/python3.8/site-packages/seaborn/distributions.py:283: UserWarning: Data must have variance to compute a kernel density estimate.\n",
      "  warnings.warn(msg, UserWarning)\n",
      "/Users/losh/opt/anaconda3/lib/python3.8/site-packages/seaborn/distributions.py:283: UserWarning: Data must have variance to compute a kernel density estimate.\n",
      "  warnings.warn(msg, UserWarning)\n",
      "/Users/losh/opt/anaconda3/lib/python3.8/site-packages/seaborn/distributions.py:283: UserWarning: Data must have variance to compute a kernel density estimate.\n",
      "  warnings.warn(msg, UserWarning)\n",
      "/Users/losh/opt/anaconda3/lib/python3.8/site-packages/seaborn/distributions.py:283: UserWarning: Data must have variance to compute a kernel density estimate.\n",
      "  warnings.warn(msg, UserWarning)\n",
      "/Users/losh/opt/anaconda3/lib/python3.8/site-packages/seaborn/distributions.py:283: UserWarning: Data must have variance to compute a kernel density estimate.\n",
      "  warnings.warn(msg, UserWarning)\n",
      "/Users/losh/opt/anaconda3/lib/python3.8/site-packages/seaborn/distributions.py:283: UserWarning: Data must have variance to compute a kernel density estimate.\n",
      "  warnings.warn(msg, UserWarning)\n",
      "/Users/losh/opt/anaconda3/lib/python3.8/site-packages/seaborn/distributions.py:283: UserWarning: Data must have variance to compute a kernel density estimate.\n",
      "  warnings.warn(msg, UserWarning)\n",
      "/Users/losh/opt/anaconda3/lib/python3.8/site-packages/seaborn/distributions.py:283: UserWarning: Data must have variance to compute a kernel density estimate.\n",
      "  warnings.warn(msg, UserWarning)\n",
      "/Users/losh/opt/anaconda3/lib/python3.8/site-packages/seaborn/distributions.py:283: UserWarning: Data must have variance to compute a kernel density estimate.\n",
      "  warnings.warn(msg, UserWarning)\n",
      "/Users/losh/opt/anaconda3/lib/python3.8/site-packages/seaborn/distributions.py:283: UserWarning: Data must have variance to compute a kernel density estimate.\n",
      "  warnings.warn(msg, UserWarning)\n",
      "/Users/losh/opt/anaconda3/lib/python3.8/site-packages/seaborn/distributions.py:283: UserWarning: Data must have variance to compute a kernel density estimate.\n",
      "  warnings.warn(msg, UserWarning)\n",
      "/Users/losh/opt/anaconda3/lib/python3.8/site-packages/seaborn/distributions.py:283: UserWarning: Data must have variance to compute a kernel density estimate.\n",
      "  warnings.warn(msg, UserWarning)\n",
      "/Users/losh/opt/anaconda3/lib/python3.8/site-packages/seaborn/distributions.py:283: UserWarning: Data must have variance to compute a kernel density estimate.\n",
      "  warnings.warn(msg, UserWarning)\n",
      "/Users/losh/opt/anaconda3/lib/python3.8/site-packages/seaborn/distributions.py:283: UserWarning: Data must have variance to compute a kernel density estimate.\n",
      "  warnings.warn(msg, UserWarning)\n",
      "/Users/losh/opt/anaconda3/lib/python3.8/site-packages/seaborn/distributions.py:283: UserWarning: Data must have variance to compute a kernel density estimate.\n",
      "  warnings.warn(msg, UserWarning)\n",
      "/Users/losh/opt/anaconda3/lib/python3.8/site-packages/seaborn/distributions.py:283: UserWarning: Data must have variance to compute a kernel density estimate.\n",
      "  warnings.warn(msg, UserWarning)\n",
      "/Users/losh/opt/anaconda3/lib/python3.8/site-packages/seaborn/distributions.py:283: UserWarning: Data must have variance to compute a kernel density estimate.\n",
      "  warnings.warn(msg, UserWarning)\n",
      "/Users/losh/opt/anaconda3/lib/python3.8/site-packages/seaborn/distributions.py:283: UserWarning: Data must have variance to compute a kernel density estimate.\n",
      "  warnings.warn(msg, UserWarning)\n",
      "/Users/losh/opt/anaconda3/lib/python3.8/site-packages/seaborn/distributions.py:283: UserWarning: Data must have variance to compute a kernel density estimate.\n",
      "  warnings.warn(msg, UserWarning)\n",
      "/Users/losh/opt/anaconda3/lib/python3.8/site-packages/seaborn/distributions.py:283: UserWarning: Data must have variance to compute a kernel density estimate.\n",
      "  warnings.warn(msg, UserWarning)\n"
     ]
    },
    {
     "data": {
      "image/png": "[encoded data removed]",
      "text/plain": [
       "<Figure size 459.75x360 with 6 Axes>"
      ]
     },
     "metadata": {
      "needs_background": "light"
     },
     "output_type": "display_data"
    }
   ],
   "source": [
    "sns.pairplot(top_ten, hue='revenue',vars=['revenue','budget']);"
   ]
  },
  {
   "cell_type": "code",
   "execution_count": 8,
   "metadata": {},
   "outputs": [
    {
     "data": {
      "image/png": "[encoded data removed]",
      "text/plain": [
       "<Figure size 1440x864 with 1 Axes>"
      ]
     },
     "metadata": {
      "needs_background": "light"
     },
     "output_type": "display_data"
    }
   ],
   "source": [
    "plt.figure(figsize = (20,12));\n",
    "plt.gca().set_facecolor('silver')\n",
    "sns.barplot(x = top_ten['original_title'],y = top_ten['revenue'] );\n",
    "plt.xticks(rotation = 90);\n",
    "plt.grid(color='whitesmoke',linestyle='-',axis='y')\n",
    "plt.title(\"top_revenue\", fontsize = 25 );"
   ]
  },
  {
   "cell_type": "markdown",
   "metadata": {},
   "source": [
    "### reasoning for visualisations :\n",
    "The graph shows a preference for the 10 movies based on revenue. Notably, Avatar has crossed the highest revenue ceiling of 2781505847"
   ]
  },
  {
   "cell_type": "markdown",
   "metadata": {},
   "source": [
    "Now we will read another story related to movie ratings\n",
    "## 2- What are the top ten films based on voting?"
   ]
  },
  {
   "cell_type": "code",
   "execution_count": 9,
   "metadata": {},
   "outputs": [
    {
     "data": {
      "text/html": [
       "<div>\n",
       "<style scoped>\n",
       "    .dataframe tbody tr th:only-of-type {\n",
       "        vertical-align: middle;\n",
       "    }\n",
       "\n",
       "    .dataframe tbody tr th {\n",
       "        vertical-align: top;\n",
       "    }\n",
       "\n",
       "    .dataframe thead th {\n",
       "        text-align: right;\n",
       "    }\n",
       "</style>\n",
       "<table border=\"1\" class=\"dataframe\">\n",
       "  <thead>\n",
       "    <tr style=\"text-align: right;\">\n",
       "      <th></th>\n",
       "      <th>original_title</th>\n",
       "      <th>vote_count</th>\n",
       "    </tr>\n",
       "  </thead>\n",
       "  <tbody>\n",
       "    <tr>\n",
       "      <th>1919</th>\n",
       "      <td>Inception</td>\n",
       "      <td>9767</td>\n",
       "    </tr>\n",
       "    <tr>\n",
       "      <th>4361</th>\n",
       "      <td>The Avengers</td>\n",
       "      <td>8903</td>\n",
       "    </tr>\n",
       "    <tr>\n",
       "      <th>1386</th>\n",
       "      <td>Avatar</td>\n",
       "      <td>8458</td>\n",
       "    </tr>\n",
       "    <tr>\n",
       "      <th>2875</th>\n",
       "      <td>The Dark Knight</td>\n",
       "      <td>8432</td>\n",
       "    </tr>\n",
       "    <tr>\n",
       "      <th>4364</th>\n",
       "      <td>Django Unchained</td>\n",
       "      <td>7375</td>\n",
       "    </tr>\n",
       "    <tr>\n",
       "      <th>4382</th>\n",
       "      <td>The Hunger Games</td>\n",
       "      <td>7080</td>\n",
       "    </tr>\n",
       "    <tr>\n",
       "      <th>5425</th>\n",
       "      <td>Iron Man 3</td>\n",
       "      <td>6882</td>\n",
       "    </tr>\n",
       "    <tr>\n",
       "      <th>4363</th>\n",
       "      <td>The Dark Knight Rises</td>\n",
       "      <td>6723</td>\n",
       "    </tr>\n",
       "    <tr>\n",
       "      <th>629</th>\n",
       "      <td>Interstellar</td>\n",
       "      <td>6498</td>\n",
       "    </tr>\n",
       "    <tr>\n",
       "      <th>4367</th>\n",
       "      <td>The Hobbit: An Unexpected Journey</td>\n",
       "      <td>6417</td>\n",
       "    </tr>\n",
       "  </tbody>\n",
       "</table>\n",
       "</div>"
      ],
      "text/plain": [
       "                         original_title  vote_count\n",
       "1919                          Inception        9767\n",
       "4361                       The Avengers        8903\n",
       "1386                             Avatar        8458\n",
       "2875                    The Dark Knight        8432\n",
       "4364                   Django Unchained        7375\n",
       "4382                   The Hunger Games        7080\n",
       "5425                         Iron Man 3        6882\n",
       "4363              The Dark Knight Rises        6723\n",
       "629                        Interstellar        6498\n",
       "4367  The Hobbit: An Unexpected Journey        6417"
      ]
     },
     "execution_count": 9,
     "metadata": {},
     "output_type": "execute_result"
    }
   ],
   "source": [
    "\n",
    "vote_count=data_movies[['original_title','vote_count']]\n",
    "vote_count.sort_values('vote_count',ascending=False).head(10)\n",
    "\n"
   ]
  },
  {
   "cell_type": "markdown",
   "metadata": {},
   "source": [
    "# Third story:\n",
    "\n",
    "The answer is through a graph that shows the most popularity films\n",
    "## 3- What were the most popularity films during that period 1960-2015 ?!"
   ]
  },
  {
   "cell_type": "code",
   "execution_count": 10,
   "metadata": {},
   "outputs": [
    {
     "data": {
      "image/png": "[encoded data removed]",
      "text/plain": [
       "<Figure size 1440x864 with 1 Axes>"
      ]
     },
     "metadata": {
      "needs_background": "light"
     },
     "output_type": "display_data"
    }
   ],
   "source": [
    "top_popularity=data_movies[['release_year','original_title','popularity']]\n",
    "top_popularity=top_popularity.sort_values('popularity',ascending=False).head(10)\n",
    "\n",
    "\n",
    "plt.figure(figsize = (20,12));\n",
    "plt.gca().set_facecolor('silver')\n",
    "sns.barplot(x = top_popularity['original_title'],y = top_popularity['popularity'] );\n",
    "plt.xticks(rotation = 90);\n",
    "plt.grid(color='whitesmoke',linestyle='-',axis='y')\n",
    "plt.title(\"top_popularity\", fontsize = 25 );"
   ]
  },
  {
   "cell_type": "markdown",
   "metadata": {},
   "source": [
    "### reasoning for visualisations:\n",
    "If we rate the movies based on their popularity, the story will change completely, so the graph shows that Jurassic World, with its 'Action | Adventure | Science Fiction | Thriller' rating, is one of the ten most popular movies among the audience even though the revenue is lower than Avatar. Symbolism. Jurassic World ranks 5th in \"Best Revenue\" ranking with revenues of 1513528810\n",
    "\n",
    "\n",
    "### *In short:\n",
    "Jurassic World it achieved 1st place in popularity and 5th place in financial revenue\n",
    "\n",
    "\n",
    "\n",
    "\n",
    "..........."
   ]
  },
  {
   "cell_type": "markdown",
   "metadata": {},
   "source": [
    "\n",
    "\n",
    "\n",
    "### Now with the sad question:\n",
    "\n",
    "## 4- What are the 10 films that have suffered losses throughout history?"
   ]
  },
  {
   "cell_type": "code",
   "execution_count": 11,
   "metadata": {},
   "outputs": [
    {
     "data": {
      "text/html": [
       "<div>\n",
       "<style scoped>\n",
       "    .dataframe tbody tr th:only-of-type {\n",
       "        vertical-align: middle;\n",
       "    }\n",
       "\n",
       "    .dataframe tbody tr th {\n",
       "        vertical-align: top;\n",
       "    }\n",
       "\n",
       "    .dataframe thead th {\n",
       "        text-align: right;\n",
       "    }\n",
       "</style>\n",
       "<table border=\"1\" class=\"dataframe\">\n",
       "  <thead>\n",
       "    <tr style=\"text-align: right;\">\n",
       "      <th></th>\n",
       "      <th>release_year</th>\n",
       "      <th>original_title</th>\n",
       "      <th>production_companies</th>\n",
       "      <th>budget</th>\n",
       "      <th>revenue</th>\n",
       "      <th>profit</th>\n",
       "    </tr>\n",
       "  </thead>\n",
       "  <tbody>\n",
       "    <tr>\n",
       "      <th>2435</th>\n",
       "      <td>1999</td>\n",
       "      <td>The 13th Warrior</td>\n",
       "      <td>Touchstone Pictures</td>\n",
       "      <td>160000000</td>\n",
       "      <td>61698899</td>\n",
       "      <td>-98301101</td>\n",
       "    </tr>\n",
       "    <tr>\n",
       "      <th>4970</th>\n",
       "      <td>2003</td>\n",
       "      <td>Brother Bear</td>\n",
       "      <td>Walt Disney Pictures|Walt Disney Feature Anima...</td>\n",
       "      <td>100000000</td>\n",
       "      <td>250</td>\n",
       "      <td>-99999750</td>\n",
       "    </tr>\n",
       "    <tr>\n",
       "      <th>1696</th>\n",
       "      <td>2009</td>\n",
       "      <td>Dragonball Evolution</td>\n",
       "      <td>Ingenious Film Partners|Twentieth Century Fox ...</td>\n",
       "      <td>100000000</td>\n",
       "      <td>0</td>\n",
       "      <td>-100000000</td>\n",
       "    </tr>\n",
       "    <tr>\n",
       "      <th>2190</th>\n",
       "      <td>2010</td>\n",
       "      <td>Double Wedding</td>\n",
       "      <td>Jaffe / Braunstein Enterprise|Lifetime Network</td>\n",
       "      <td>104002432</td>\n",
       "      <td>0</td>\n",
       "      <td>-104002432</td>\n",
       "    </tr>\n",
       "    <tr>\n",
       "      <th>3484</th>\n",
       "      <td>2011</td>\n",
       "      <td>Mars Needs Moms</td>\n",
       "      <td>Walt Disney Animation Studios</td>\n",
       "      <td>150000000</td>\n",
       "      <td>38992758</td>\n",
       "      <td>-111007242</td>\n",
       "    </tr>\n",
       "    <tr>\n",
       "      <th>7031</th>\n",
       "      <td>2004</td>\n",
       "      <td>The Alamo</td>\n",
       "      <td>Imagine Entertainment|Touchstone Pictures</td>\n",
       "      <td>145000000</td>\n",
       "      <td>25819961</td>\n",
       "      <td>-119180039</td>\n",
       "    </tr>\n",
       "    <tr>\n",
       "      <th>2214</th>\n",
       "      <td>2010</td>\n",
       "      <td>The Pacific</td>\n",
       "      <td>Playtone|HBO|DreamWorks Television</td>\n",
       "      <td>120000000</td>\n",
       "      <td>0</td>\n",
       "      <td>-120000000</td>\n",
       "    </tr>\n",
       "    <tr>\n",
       "      <th>2069</th>\n",
       "      <td>2010</td>\n",
       "      <td>The Wolfman</td>\n",
       "      <td>Universal Pictures|Stuber Productions|Relativi...</td>\n",
       "      <td>150000000</td>\n",
       "      <td>0</td>\n",
       "      <td>-150000000</td>\n",
       "    </tr>\n",
       "    <tr>\n",
       "      <th>5508</th>\n",
       "      <td>2013</td>\n",
       "      <td>The Lone Ranger</td>\n",
       "      <td>Walt Disney Pictures|Jerry Bruckheimer Films|I...</td>\n",
       "      <td>255000000</td>\n",
       "      <td>89289910</td>\n",
       "      <td>-165710090</td>\n",
       "    </tr>\n",
       "    <tr>\n",
       "      <th>2244</th>\n",
       "      <td>2010</td>\n",
       "      <td>The Warrior's Way</td>\n",
       "      <td>Boram Entertainment Inc.</td>\n",
       "      <td>425000000</td>\n",
       "      <td>11087569</td>\n",
       "      <td>-413912431</td>\n",
       "    </tr>\n",
       "  </tbody>\n",
       "</table>\n",
       "</div>"
      ],
      "text/plain": [
       "      release_year        original_title  \\\n",
       "2435          1999      The 13th Warrior   \n",
       "4970          2003          Brother Bear   \n",
       "1696          2009  Dragonball Evolution   \n",
       "2190          2010        Double Wedding   \n",
       "3484          2011       Mars Needs Moms   \n",
       "7031          2004             The Alamo   \n",
       "2214          2010           The Pacific   \n",
       "2069          2010           The Wolfman   \n",
       "5508          2013       The Lone Ranger   \n",
       "2244          2010     The Warrior's Way   \n",
       "\n",
       "                                   production_companies     budget   revenue  \\\n",
       "2435                                Touchstone Pictures  160000000  61698899   \n",
       "4970  Walt Disney Pictures|Walt Disney Feature Anima...  100000000       250   \n",
       "1696  Ingenious Film Partners|Twentieth Century Fox ...  100000000         0   \n",
       "2190     Jaffe / Braunstein Enterprise|Lifetime Network  104002432         0   \n",
       "3484                      Walt Disney Animation Studios  150000000  38992758   \n",
       "7031          Imagine Entertainment|Touchstone Pictures  145000000  25819961   \n",
       "2214                 Playtone|HBO|DreamWorks Television  120000000         0   \n",
       "2069  Universal Pictures|Stuber Productions|Relativi...  150000000         0   \n",
       "5508  Walt Disney Pictures|Jerry Bruckheimer Films|I...  255000000  89289910   \n",
       "2244                           Boram Entertainment Inc.  425000000  11087569   \n",
       "\n",
       "         profit  \n",
       "2435  -98301101  \n",
       "4970  -99999750  \n",
       "1696 -100000000  \n",
       "2190 -104002432  \n",
       "3484 -111007242  \n",
       "7031 -119180039  \n",
       "2214 -120000000  \n",
       "2069 -150000000  \n",
       "5508 -165710090  \n",
       "2244 -413912431  "
      ]
     },
     "execution_count": 11,
     "metadata": {},
     "output_type": "execute_result"
    }
   ],
   "source": [
    "less_profit=data_movies[['release_year','original_title','production_companies','budget','revenue','profit']]\n",
    "less_profit=less_profit.sort_values('profit',ascending=False).tail(10)\n",
    "less_profit"
   ]
  },
  {
   "cell_type": "code",
   "execution_count": 12,
   "metadata": {},
   "outputs": [],
   "source": [
    "# the 10 films that have suffered losses throughout history:\n",
    " \n",
    " \n",
    "#1-  The Warrior's Way      -413912431\n",
    "#2-  The Lone Ranger        -165710090\n",
    "#3-  The Wolfman            -150000000\n",
    "#4-  The Pacific            -120000000\n",
    "#5-  The Alamo              -119180039\n",
    "#6-  Mars Needs Moms        -111007242\n",
    "#7-  Double Wedding         -104002432\n",
    "#8-  Dragonball Evolution   -100000000\n",
    "#9-  Brother Bear           -99999750\n",
    "#10- The 13th Warrio        -98301101\n"
   ]
  },
  {
   "cell_type": "code",
   "execution_count": 13,
   "metadata": {},
   "outputs": [
    {
     "data": {
      "image/png": "[encoded data removed]",
      "text/plain": [
       "<Figure size 432x288 with 1 Axes>"
      ]
     },
     "metadata": {
      "needs_background": "light"
     },
     "output_type": "display_data"
    }
   ],
   "source": [
    "a=less_profit.original_title\n",
    "b=less_profit.budget\n",
    "c=less_profit.profit\n",
    "\n",
    "plt.grid(color='silver',linestyle='-',axis='both')\n",
    "plt.plot(a,b,'k')\n",
    "plt.plot(a,c,'yellow')\n",
    "plt.legend(['budget','profit'])\n",
    "plt.title('less_profit')\n",
    "plt.xlabel('movies')\n",
    "plt.xticks(rotation = 90)\n",
    "plt.ylabel('profit')\n",
    "plt.grid(color='silver',linestyle='-',axis='both')\n",
    "plt.show()"
   ]
  },
  {
   "cell_type": "markdown",
   "metadata": {},
   "source": [
    "### reasoning for visualisations:¶\n",
    "\n",
    "- The graph explains the great loss incurred by the ten \"most losing\" films, as it shows that there is a big gap between the budget and between revenues,\n",
    "\n",
    "- The lowest losses were for Thirteenth Warrior Values, at a loss of 98,301,101, against a budget of 160,000,000\n",
    "\n",
    "\n",
    "\n"
   ]
  },
  {
   "cell_type": "markdown",
   "metadata": {},
   "source": [
    "![](kh4.gif)"
   ]
  },
  {
   "cell_type": "markdown",
   "metadata": {},
   "source": [
    "## 5-An analysis of the top five directors movies :( christopher_nolan vs james_cameron )"
   ]
  },
  {
   "cell_type": "code",
   "execution_count": 14,
   "metadata": {},
   "outputs": [
    {
     "data": {
      "text/html": [
       "<div>\n",
       "<style scoped>\n",
       "    .dataframe tbody tr th:only-of-type {\n",
       "        vertical-align: middle;\n",
       "    }\n",
       "\n",
       "    .dataframe tbody tr th {\n",
       "        vertical-align: top;\n",
       "    }\n",
       "\n",
       "    .dataframe thead th {\n",
       "        text-align: right;\n",
       "    }\n",
       "</style>\n",
       "<table border=\"1\" class=\"dataframe\">\n",
       "  <thead>\n",
       "    <tr style=\"text-align: right;\">\n",
       "      <th></th>\n",
       "      <th>original_title</th>\n",
       "      <th>release_year</th>\n",
       "      <th>budget</th>\n",
       "      <th>profit</th>\n",
       "      <th>revenue</th>\n",
       "      <th>ratio</th>\n",
       "    </tr>\n",
       "  </thead>\n",
       "  <tbody>\n",
       "    <tr>\n",
       "      <th>4363</th>\n",
       "      <td>The Dark Knight Rises</td>\n",
       "      <td>2012</td>\n",
       "      <td>250000000</td>\n",
       "      <td>831041287</td>\n",
       "      <td>1081041287</td>\n",
       "      <td>432.416515</td>\n",
       "    </tr>\n",
       "    <tr>\n",
       "      <th>2875</th>\n",
       "      <td>The Dark Knight</td>\n",
       "      <td>2008</td>\n",
       "      <td>185000000</td>\n",
       "      <td>816921825</td>\n",
       "      <td>1001921825</td>\n",
       "      <td>541.579365</td>\n",
       "    </tr>\n",
       "    <tr>\n",
       "      <th>1919</th>\n",
       "      <td>Inception</td>\n",
       "      <td>2010</td>\n",
       "      <td>160000000</td>\n",
       "      <td>665500000</td>\n",
       "      <td>825500000</td>\n",
       "      <td>515.937500</td>\n",
       "    </tr>\n",
       "    <tr>\n",
       "      <th>629</th>\n",
       "      <td>Interstellar</td>\n",
       "      <td>2014</td>\n",
       "      <td>165000000</td>\n",
       "      <td>456752480</td>\n",
       "      <td>621752480</td>\n",
       "      <td>376.819685</td>\n",
       "    </tr>\n",
       "    <tr>\n",
       "      <th>6191</th>\n",
       "      <td>Batman Begins</td>\n",
       "      <td>2005</td>\n",
       "      <td>150000000</td>\n",
       "      <td>224218673</td>\n",
       "      <td>374218673</td>\n",
       "      <td>249.479115</td>\n",
       "    </tr>\n",
       "  </tbody>\n",
       "</table>\n",
       "</div>"
      ],
      "text/plain": [
       "             original_title  release_year     budget     profit     revenue  \\\n",
       "4363  The Dark Knight Rises          2012  250000000  831041287  1081041287   \n",
       "2875        The Dark Knight          2008  185000000  816921825  1001921825   \n",
       "1919              Inception          2010  160000000  665500000   825500000   \n",
       "629            Interstellar          2014  165000000  456752480   621752480   \n",
       "6191          Batman Begins          2005  150000000  224218673   374218673   \n",
       "\n",
       "           ratio  \n",
       "4363  432.416515  \n",
       "2875  541.579365  \n",
       "1919  515.937500  \n",
       "629   376.819685  \n",
       "6191  249.479115  "
      ]
     },
     "execution_count": 14,
     "metadata": {},
     "output_type": "execute_result"
    }
   ],
   "source": [
    "christopher_nolan=data_movies[['original_title','release_year','budget','profit','revenue','ratio']]\n",
    "christopher_nolan=christopher_nolan[data_movies.director=='Christopher Nolan']\n",
    "christopher_nolan=christopher_nolan.sort_values('profit',ascending=False)\n",
    "christopher_nolan.head(5)"
   ]
  },
  {
   "cell_type": "code",
   "execution_count": 15,
   "metadata": {},
   "outputs": [
    {
     "data": {
      "image/png": "[encoded data removed]",
      "text/plain": [
       "<Figure size 432x288 with 1 Axes>"
      ]
     },
     "metadata": {
      "needs_background": "light"
     },
     "output_type": "display_data"
    }
   ],
   "source": [
    "a=christopher_nolan.original_title\n",
    "b=christopher_nolan.budget\n",
    "c=christopher_nolan.profit\n",
    "\n",
    "plt.grid(color='silver',linestyle='-',axis='both')\n",
    "plt.plot(a,b,'k')\n",
    "plt.plot(a,c,'yellow')\n",
    "plt.legend(['budget','profit'])\n",
    "plt.title('christopher_nolan')\n",
    "plt.xlabel('movies')\n",
    "plt.xticks(rotation = 90)\n",
    "plt.ylabel('profit')\n",
    "plt.grid(color='silver',linestyle='-',axis='both')\n",
    "plt.show()"
   ]
  },
  {
   "cell_type": "markdown",
   "metadata": {},
   "source": [
    "### reasoning for visualisations:\n",
    "\n",
    "The great director \"christopher_nolan\" made huge profits through the camera lens for all five of his films, and his lowest profit was \"Batman Begins\" in which he won \"224218673\"\n",
    "He estimated his average earnings for 2010 in \"Inception\" as his earnings: \"665500000\" and the budget: \"160,000000\"\n",
    "    "
   ]
  },
  {
   "cell_type": "code",
   "execution_count": 16,
   "metadata": {},
   "outputs": [
    {
     "data": {
      "text/html": [
       "<div>\n",
       "<style scoped>\n",
       "    .dataframe tbody tr th:only-of-type {\n",
       "        vertical-align: middle;\n",
       "    }\n",
       "\n",
       "    .dataframe tbody tr th {\n",
       "        vertical-align: top;\n",
       "    }\n",
       "\n",
       "    .dataframe thead th {\n",
       "        text-align: right;\n",
       "    }\n",
       "</style>\n",
       "<table border=\"1\" class=\"dataframe\">\n",
       "  <thead>\n",
       "    <tr style=\"text-align: right;\">\n",
       "      <th></th>\n",
       "      <th>original_title</th>\n",
       "      <th>release_year</th>\n",
       "      <th>budget</th>\n",
       "      <th>profit</th>\n",
       "      <th>ratio</th>\n",
       "    </tr>\n",
       "  </thead>\n",
       "  <tbody>\n",
       "    <tr>\n",
       "      <th>1386</th>\n",
       "      <td>Avatar</td>\n",
       "      <td>2009</td>\n",
       "      <td>237000000</td>\n",
       "      <td>2544505847</td>\n",
       "      <td>1173.631159</td>\n",
       "    </tr>\n",
       "    <tr>\n",
       "      <th>5231</th>\n",
       "      <td>Titanic</td>\n",
       "      <td>1997</td>\n",
       "      <td>200000000</td>\n",
       "      <td>1645034188</td>\n",
       "      <td>922.517094</td>\n",
       "    </tr>\n",
       "    <tr>\n",
       "      <th>9317</th>\n",
       "      <td>Terminator 2: Judgment Day</td>\n",
       "      <td>1991</td>\n",
       "      <td>100000000</td>\n",
       "      <td>420000000</td>\n",
       "      <td>520.000000</td>\n",
       "    </tr>\n",
       "    <tr>\n",
       "      <th>4186</th>\n",
       "      <td>True Lies</td>\n",
       "      <td>1994</td>\n",
       "      <td>115000000</td>\n",
       "      <td>263882411</td>\n",
       "      <td>329.462966</td>\n",
       "    </tr>\n",
       "    <tr>\n",
       "      <th>10472</th>\n",
       "      <td>Aliens</td>\n",
       "      <td>1986</td>\n",
       "      <td>18500000</td>\n",
       "      <td>112560248</td>\n",
       "      <td>708.433773</td>\n",
       "    </tr>\n",
       "  </tbody>\n",
       "</table>\n",
       "</div>"
      ],
      "text/plain": [
       "                   original_title  release_year     budget      profit  \\\n",
       "1386                       Avatar          2009  237000000  2544505847   \n",
       "5231                      Titanic          1997  200000000  1645034188   \n",
       "9317   Terminator 2: Judgment Day          1991  100000000   420000000   \n",
       "4186                    True Lies          1994  115000000   263882411   \n",
       "10472                      Aliens          1986   18500000   112560248   \n",
       "\n",
       "             ratio  \n",
       "1386   1173.631159  \n",
       "5231    922.517094  \n",
       "9317    520.000000  \n",
       "4186    329.462966  \n",
       "10472   708.433773  "
      ]
     },
     "execution_count": 16,
     "metadata": {},
     "output_type": "execute_result"
    }
   ],
   "source": [
    "james_cameron=data_movies[['original_title','release_year','budget','profit','ratio']]\n",
    "james_cameron=james_cameron[data_movies.director=='James Cameron']\n",
    "james_cameron=james_cameron.sort_values('profit',ascending=False)\n",
    "james_cameron.head(5)"
   ]
  },
  {
   "cell_type": "code",
   "execution_count": 17,
   "metadata": {},
   "outputs": [
    {
     "data": {
      "image/png": "[encoded data removed]",
      "text/plain": [
       "<Figure size 432x288 with 1 Axes>"
      ]
     },
     "metadata": {
      "needs_background": "light"
     },
     "output_type": "display_data"
    }
   ],
   "source": [
    "\n",
    "d=james_cameron.original_title\n",
    "e=james_cameron.profit\n",
    "f=james_cameron.budget\n",
    "\n",
    "plt.plot(d,e,'yellow')\n",
    "plt.plot(d,f,'k')\n",
    "plt.legend(['profit','budget'])\n",
    "plt.title('james_cameron')\n",
    "plt.xlabel('movies')\n",
    "plt.xticks(rotation = 90)\n",
    "plt.ylabel('budget profit')\n",
    "plt.grid(color='silver',linestyle='-',axis='both')\n",
    "plt.show()"
   ]
  },
  {
   "cell_type": "markdown",
   "metadata": {},
   "source": [
    "### reasoning for visualisations:\n",
    "\n",
    "The great director \"james_cameron\" made huge profits through the camera lens for all five of his films, in \"Titanic\", the profits were \"1645034188\".\n",
    "\n",
    "He estimated his average earnings for 2010 in \"Terminator 2: Judgment Day\" as his earnings: \"420000000\" and the budget: \"100000000\""
   ]
  },
  {
   "cell_type": "markdown",
   "metadata": {},
   "source": [
    "## 6- For every dollar spent in the budget, how many profits did he make for directors:\n",
    "   ## ( christopher_nolan vs james_cameron )?"
   ]
  },
  {
   "cell_type": "code",
   "execution_count": 18,
   "metadata": {},
   "outputs": [
    {
     "data": {
      "image/png": "[encoded data removed]",
      "text/plain": [
       "<Figure size 432x288 with 1 Axes>"
      ]
     },
     "metadata": {
      "needs_background": "light"
     },
     "output_type": "display_data"
    }
   ],
   "source": [
    "\n",
    "a = ['First', 'Second', 'Third', 'Fourth', 'Fifth']\n",
    "achristopher_ratio = [ 542 , 516 , 441, 432 ,377 ]\n",
    "james_ratio=[ 1225 ,1174, 923, 708,  520]\n",
    "\n",
    "x = np.arange(len(a))  \n",
    "width = 0.40\n",
    "\n",
    "fig, ax = plt.subplots()\n",
    "rects1 = ax.bar(x - width/2, achristopher_ratio, width, label='achristopher_ratio')\n",
    "rects2 = ax.bar(x + width/2, james_ratio, width, label='james_ratio')\n",
    "\n",
    "\n",
    "ax.set_ylabel('ratio')\n",
    "ax.set_title('james_ratio Vs achristopher_ratio')\n",
    "ax.set_xticks(x)\n",
    "ax.set_xticklabels(a)\n",
    "ax.legend()\n",
    "\n",
    "\n",
    "def autolabel(rects):\n",
    "    for rect in rects:\n",
    "        height = rect.get_height()\n",
    "        ax.annotate('{}'.format(height),\n",
    "                    xy=(rect.get_x() + rect.get_width() / 2, height),\n",
    "                    xytext=(0,15), \n",
    "                    textcoords=\"offset points\",\n",
    "                    ha='center', va='bottom')\n",
    "\n",
    "\n",
    "\n",
    "autolabel(rects1)\n",
    "autolabel(rects2) \n",
    "fig.tight_layout()\n",
    "fontsize = 40\n",
    "plt.show()"
   ]
  },
  {
   "cell_type": "markdown",
   "metadata": {},
   "source": [
    "### reasoning for visualisations:\n",
    "\n",
    "- * The graph shows how much for every dollar spent how many times the profit was made by the five best films by directors\n",
    "- For example, Director Christopher_nolan, on Terminator 2: Judgment Day, 1991, for every dollar spent in the budget, 441 earnings are recorded for every dollar, which is a brilliant thing. \n",
    "\n",
    "### *Notice :\n",
    "All of the directors are great and have made huge profits in the movie industry, and they have their own magic touch,\n",
    "\n"
   ]
  },
  {
   "cell_type": "markdown",
   "metadata": {},
   "source": [
    "## 7- What is the most productive film company?"
   ]
  },
  {
   "cell_type": "code",
   "execution_count": 19,
   "metadata": {},
   "outputs": [
    {
     "data": {
      "text/plain": [
       "Universal Pictures                        522\n",
       "Warner Bros.                              509\n",
       "Paramount Pictures                        431\n",
       "Twentieth Century Fox Film Corporation    282\n",
       "Columbia Pictures                         272\n",
       "                                         ... \n",
       "Exxodus Pictures                            1\n",
       "Montauk Productions                         1\n",
       "Tobis                                       1\n",
       "Larger Than Life Productions                1\n",
       "Front Films                                 1\n",
       "Name: the_production_companies, Length: 7842, dtype: int64"
      ]
     },
     "execution_count": 19,
     "metadata": {},
     "output_type": "execute_result"
    }
   ],
   "source": [
    "moveis_production_co=data_movies\n",
    "all_production_co = moveis_production_co.copy()\n",
    "the_production_companies = all_production_co['production_companies'].str.split('|').apply(pd.Series, 1).stack().reset_index(level=1, drop=True)\n",
    "the_production_companies.name = 'the_production_companies'\n",
    "all_production_co = all_production_co.join(the_production_companies)\n",
    "all_production_co=all_production_co[['original_title','release_year','budget','profit','popularity','revenue','the_production_companies']]\n",
    "all_production_co['the_production_companies'].value_counts()\n"
   ]
  },
  {
   "cell_type": "code",
   "execution_count": 20,
   "metadata": {},
   "outputs": [
    {
     "data": {
      "text/html": [
       "<div>\n",
       "<style scoped>\n",
       "    .dataframe tbody tr th:only-of-type {\n",
       "        vertical-align: middle;\n",
       "    }\n",
       "\n",
       "    .dataframe tbody tr th {\n",
       "        vertical-align: top;\n",
       "    }\n",
       "\n",
       "    .dataframe thead th {\n",
       "        text-align: right;\n",
       "    }\n",
       "</style>\n",
       "<table border=\"1\" class=\"dataframe\">\n",
       "  <thead>\n",
       "    <tr style=\"text-align: right;\">\n",
       "      <th></th>\n",
       "      <th>original_title</th>\n",
       "      <th>release_year</th>\n",
       "      <th>budget</th>\n",
       "      <th>profit</th>\n",
       "      <th>popularity</th>\n",
       "      <th>revenue</th>\n",
       "      <th>the_production_companies</th>\n",
       "    </tr>\n",
       "  </thead>\n",
       "  <tbody>\n",
       "    <tr>\n",
       "      <th>4</th>\n",
       "      <td>Furious 7</td>\n",
       "      <td>2015</td>\n",
       "      <td>190000000</td>\n",
       "      <td>1316249360</td>\n",
       "      <td>9.335014</td>\n",
       "      <td>1506249360</td>\n",
       "      <td>Universal Pictures</td>\n",
       "    </tr>\n",
       "    <tr>\n",
       "      <th>8</th>\n",
       "      <td>Minions</td>\n",
       "      <td>2015</td>\n",
       "      <td>74000000</td>\n",
       "      <td>1082730962</td>\n",
       "      <td>7.404165</td>\n",
       "      <td>1156730962</td>\n",
       "      <td>Universal Pictures</td>\n",
       "    </tr>\n",
       "    <tr>\n",
       "      <th>5434</th>\n",
       "      <td>Despicable Me 2</td>\n",
       "      <td>2013</td>\n",
       "      <td>76000000</td>\n",
       "      <td>894761885</td>\n",
       "      <td>3.928789</td>\n",
       "      <td>970761885</td>\n",
       "      <td>Universal Pictures</td>\n",
       "    </tr>\n",
       "    <tr>\n",
       "      <th>10223</th>\n",
       "      <td>Jurassic Park</td>\n",
       "      <td>1993</td>\n",
       "      <td>63000000</td>\n",
       "      <td>857100000</td>\n",
       "      <td>2.204926</td>\n",
       "      <td>920100000</td>\n",
       "      <td>Universal Pictures</td>\n",
       "    </tr>\n",
       "    <tr>\n",
       "      <th>8889</th>\n",
       "      <td>E.T. the Extra-Terrestrial</td>\n",
       "      <td>1982</td>\n",
       "      <td>10500000</td>\n",
       "      <td>782410554</td>\n",
       "      <td>2.900556</td>\n",
       "      <td>792910554</td>\n",
       "      <td>Universal Pictures</td>\n",
       "    </tr>\n",
       "    <tr>\n",
       "      <th>5650</th>\n",
       "      <td>Fast &amp; Furious 6</td>\n",
       "      <td>2013</td>\n",
       "      <td>160000000</td>\n",
       "      <td>628679850</td>\n",
       "      <td>0.522347</td>\n",
       "      <td>788679850</td>\n",
       "      <td>Universal Pictures</td>\n",
       "    </tr>\n",
       "    <tr>\n",
       "      <th>2884</th>\n",
       "      <td>Mamma Mia!</td>\n",
       "      <td>2008</td>\n",
       "      <td>52000000</td>\n",
       "      <td>557841637</td>\n",
       "      <td>2.543535</td>\n",
       "      <td>609841637</td>\n",
       "      <td>Universal Pictures</td>\n",
       "    </tr>\n",
       "    <tr>\n",
       "      <th>3619</th>\n",
       "      <td>Fast Five</td>\n",
       "      <td>2011</td>\n",
       "      <td>125000000</td>\n",
       "      <td>501137675</td>\n",
       "      <td>0.436803</td>\n",
       "      <td>626137675</td>\n",
       "      <td>Universal Pictures</td>\n",
       "    </tr>\n",
       "    <tr>\n",
       "      <th>4376</th>\n",
       "      <td>Ted</td>\n",
       "      <td>2012</td>\n",
       "      <td>50000000</td>\n",
       "      <td>499368315</td>\n",
       "      <td>2.990114</td>\n",
       "      <td>549368315</td>\n",
       "      <td>Universal Pictures</td>\n",
       "    </tr>\n",
       "    <tr>\n",
       "      <th>1924</th>\n",
       "      <td>Despicable Me</td>\n",
       "      <td>2010</td>\n",
       "      <td>69000000</td>\n",
       "      <td>474513985</td>\n",
       "      <td>3.791881</td>\n",
       "      <td>543513985</td>\n",
       "      <td>Universal Pictures</td>\n",
       "    </tr>\n",
       "  </tbody>\n",
       "</table>\n",
       "</div>"
      ],
      "text/plain": [
       "                   original_title  release_year     budget      profit  \\\n",
       "4                       Furious 7          2015  190000000  1316249360   \n",
       "8                         Minions          2015   74000000  1082730962   \n",
       "5434              Despicable Me 2          2013   76000000   894761885   \n",
       "10223               Jurassic Park          1993   63000000   857100000   \n",
       "8889   E.T. the Extra-Terrestrial          1982   10500000   782410554   \n",
       "5650             Fast & Furious 6          2013  160000000   628679850   \n",
       "2884                   Mamma Mia!          2008   52000000   557841637   \n",
       "3619                    Fast Five          2011  125000000   501137675   \n",
       "4376                          Ted          2012   50000000   499368315   \n",
       "1924                Despicable Me          2010   69000000   474513985   \n",
       "\n",
       "       popularity     revenue the_production_companies  \n",
       "4        9.335014  1506249360       Universal Pictures  \n",
       "8        7.404165  1156730962       Universal Pictures  \n",
       "5434     3.928789   970761885       Universal Pictures  \n",
       "10223    2.204926   920100000       Universal Pictures  \n",
       "8889     2.900556   792910554       Universal Pictures  \n",
       "5650     0.522347   788679850       Universal Pictures  \n",
       "2884     2.543535   609841637       Universal Pictures  \n",
       "3619     0.436803   626137675       Universal Pictures  \n",
       "4376     2.990114   549368315       Universal Pictures  \n",
       "1924     3.791881   543513985       Universal Pictures  "
      ]
     },
     "execution_count": 20,
     "metadata": {},
     "output_type": "execute_result"
    }
   ],
   "source": [
    "Universal_Pictures=all_production_co[all_production_co.the_production_companies=='Universal Pictures']\n",
    "Universal_Pictures=Universal_Pictures.sort_values('profit',ascending=False)\n",
    "Universal_Pictures.head(10)"
   ]
  },
  {
   "cell_type": "code",
   "execution_count": 21,
   "metadata": {},
   "outputs": [
    {
     "data": {
      "text/plain": [
       "budget     15559560132\n",
       "revenue    48134982923\n",
       "profit     32575422791\n",
       "dtype: int64"
      ]
     },
     "execution_count": 21,
     "metadata": {},
     "output_type": "execute_result"
    }
   ],
   "source": [
    "Universal_Pictures =all_production_co[all_production_co.the_production_companies=='Universal Pictures']\n",
    "Universal_Pictures=Universal_Pictures[['budget','revenue','profit']]\n",
    "sum_of=Universal_Pictures.sum(axis=0)\n",
    "sum_of"
   ]
  },
  {
   "cell_type": "markdown",
   "metadata": {},
   "source": [
    "## 9- How many characters have been performed from 1960-2015 ?"
   ]
  },
  {
   "cell_type": "code",
   "execution_count": 22,
   "metadata": {},
   "outputs": [
    {
     "data": {
      "text/plain": [
       "48025"
      ]
     },
     "execution_count": 22,
     "metadata": {},
     "output_type": "execute_result"
    }
   ],
   "source": [
    "moveis_cast=data_movies\n",
    "all_cast = moveis_cast.copy()\n",
    "the_cast = all_cast['cast'].str.split('|').apply(pd.Series, 1).stack().reset_index(level=1, drop=True)\n",
    "the_cast.name = 'the_cast'\n",
    "all_cast = all_cast.join(the_cast)\n",
    "all_cast=all_cast[['original_title','release_year','budget','profit','the_cast','popularity']]\n",
    "all_c=all_cast['the_cast'].value_counts()\n",
    "sum_of=all_c.sum(axis=0)\n",
    "sum_of"
   ]
  },
  {
   "cell_type": "markdown",
   "metadata": {},
   "source": [
    "## 10-Who were the 10 actors that earned the most roles?"
   ]
  },
  {
   "cell_type": "code",
   "execution_count": 23,
   "metadata": {},
   "outputs": [
    {
     "data": {
      "text/plain": [
       "Robert De Niro       72\n",
       "Samuel L. Jackson    70\n",
       "Bruce Willis         62\n",
       "Nicolas Cage         61\n",
       "Michael Caine        52\n",
       "Robin Williams       51\n",
       "Morgan Freeman       49\n",
       "John Cusack          48\n",
       "John Goodman         48\n",
       "Susan Sarandon       47\n",
       "Name: the_cast, dtype: int64"
      ]
     },
     "execution_count": 23,
     "metadata": {},
     "output_type": "execute_result"
    }
   ],
   "source": [
    "all_c.head(10)"
   ]
  },
  {
   "cell_type": "markdown",
   "metadata": {},
   "source": [
    "## 11- How many movies were made and produced under each genre ?"
   ]
  },
  {
   "cell_type": "code",
   "execution_count": 24,
   "metadata": {},
   "outputs": [],
   "source": [
    "moveis_genres=data_movies\n",
    "all_genres =moveis_genres.copy()\n",
    "the_genres = all_genres['genres'].str.split('|').apply(pd.Series, 1).stack().reset_index(level=1, drop=True)\n",
    "the_genres.name = 'the_genres'\n",
    "all_genres = all_genres.join(the_genres)\n",
    "all_genres=all_genres[['original_title','release_year','budget','profit','genres','the_genres']]"
   ]
  },
  {
   "cell_type": "code",
   "execution_count": 25,
   "metadata": {},
   "outputs": [
    {
     "data": {
      "text/plain": [
       "Drama              4365\n",
       "Comedy             3433\n",
       "Thriller           2747\n",
       "Action             2236\n",
       "Romance            1570\n",
       "Horror             1526\n",
       "Adventure          1384\n",
       "Crime              1300\n",
       "Science Fiction    1137\n",
       "Family             1095\n",
       "Fantasy             840\n",
       "Mystery             773\n",
       "Animation           617\n",
       "Music               339\n",
       "Documentary         317\n",
       "History             306\n",
       "War                 258\n",
       "Western             160\n",
       "TV Movie            132\n",
       "Foreign             120\n",
       "Name: the_genres, dtype: int64"
      ]
     },
     "execution_count": 25,
     "metadata": {},
     "output_type": "execute_result"
    }
   ],
   "source": [
    "years=all_genres['the_genres'].value_counts()\n",
    "years"
   ]
  },
  {
   "cell_type": "code",
   "execution_count": 26,
   "metadata": {},
   "outputs": [
    {
     "data": {
      "image/png": "[encoded data removed]",
      "text/plain": [
       "<Figure size 2160x1440 with 1 Axes>"
      ]
     },
     "metadata": {},
     "output_type": "display_data"
    }
   ],
   "source": [
    "\n",
    "         \n",
    "\n",
    "\n",
    "fig, ax = plt.subplots(figsize=(30, 20), subplot_kw=dict(aspect=\"equal\"))\n",
    "\n",
    "recipe = [\"4365 Drama\",\n",
    "          \"3433 Comedy\",\n",
    "          \"2747 Thriller\",\n",
    "          \"2236 Action\",\n",
    "         \"1570  Romance\",\n",
    "         \"1526  Horror\",\n",
    "         \"1384  Adventure\",\n",
    "         \"1300 Crime\",\n",
    "         \"1137  Science Fiction\",\n",
    "         \"1095  Family\",\n",
    "         \"840  Fantasy\",\n",
    "         \"773  Mystery\",\n",
    "         \"617  Animation\",\n",
    "         \"339  Music\",\n",
    "         \"317  Documentary\",\n",
    "         \"306  History\",\n",
    "         \"258  War\",\n",
    "         \"160  Western\",\n",
    "         \"132  TV Movie\",\n",
    "         \"120  Foreign\"]\n",
    "\n",
    "data = [float(x.split()[0]) for x in recipe]\n",
    "ingredients = [x.split()[-1] for x in recipe]\n",
    "\n",
    "\n",
    "def func(pct, allvals):\n",
    "    absolute = int(pct/100.*np.sum(allvals))\n",
    "    return \"{:.1f}%\\n({:d} )\".format(pct, absolute)\n",
    "\n",
    "\n",
    "wedges, texts, autotexts = ax.pie(data, autopct=lambda pct: func(pct, data),\n",
    "                                  textprops=dict(color=\"w\"))\n",
    "\n",
    "ax.legend(wedges, ingredients,\n",
    "          title=\"genres\",\n",
    "          loc=\"center left\",\n",
    "          bbox_to_anchor=(1, 0, 0.5, 1))\n",
    "\n",
    "plt.setp(autotexts, size=8, weight=\"bold\")\n",
    "\n",
    "ax.set_title(\"Filmmaking 1960-2015\")\n",
    "\n",
    "plt.show()"
   ]
  },
  {
   "cell_type": "markdown",
   "metadata": {},
   "source": [
    "### reasoning for visualisations:\n",
    "\n",
    "The graph shows the distribution of films, their numbers, and the percentage of each section\n",
    "As the drama classification had the largest section, as it constituted 17.7% of all films over the course of 1960-2015.\n",
    "Comedy was at number two, making up 13.9% of all films"
   ]
  },
  {
   "cell_type": "markdown",
   "metadata": {},
   "source": [
    "## 12- In the years of the new millennium, what is the role of comedy in filmmaking?"
   ]
  },
  {
   "cell_type": "code",
   "execution_count": 27,
   "metadata": {},
   "outputs": [
    {
     "data": {
      "text/plain": [
       "Comedy    2022\n",
       "Name: the_genres, dtype: int64"
      ]
     },
     "execution_count": 27,
     "metadata": {},
     "output_type": "execute_result"
    }
   ],
   "source": [
    "Comedy=all_genres[all_genres.the_genres=='Comedy']\n",
    "Comedy_20_15=Comedy.loc[Comedy.release_year>2000]\n",
    "c_20_15=Comedy_20_15['the_genres'].value_counts()\n",
    "c_20_15"
   ]
  },
  {
   "cell_type": "markdown",
   "metadata": {},
   "source": [
    ".\n",
    ".\n",
    ".\n",
    ".\n",
    ".\n",
    ".\n",
    ".\n"
   ]
  },
  {
   "cell_type": "markdown",
   "metadata": {},
   "source": [
    "# Conclusions:\n",
    "    \n",
    "1-Regarding revenue: In 2009, AVATAR achieved an estimated revenue of 2781505847.\n",
    " Whereas in 2015, \"Star Wars: The Force Awakens\" achieved second place, if the movie Avatar scored a difference 713327622.\n",
    "\n",
    "\n",
    "2-In 2010, The Warrior's Way culminated in massive material losses, incurring financial losses of 41,3912,431 \n",
    "It is an estimated loss for every dollar spent from the budget, a profit of about 0.026 cents is obtained\n",
    "\n",
    "3-The wonderful director christopher_nolan has a visionary eye and a charming touch in filmmaking. With a budget estimated at 150,000,000 in 2005,\n",
    "he was able to achieve profits of 224218673, meaning that every dollar spent was recovered 249%.\n",
    "    \n",
    "    \n",
    "4-In 2009, director James_cameron broke the profit barrier in the film industry, managing to set a record high in profits. \n",
    "For every dollar spent in the budget they are returned in profits of 1173% and that's really crazy,\n",
    "Knowing that the lowest percentage of profits recorded\n",
    "was for the 1994 film True Lies, where it was = 329% for every dollar spent,\n",
    "\" the profit rate is very high with the rest of the films of the 1990s.\"\n",
    "\n",
    "\n",
    "5-The total comedy films that were shot from 1960 to 2015 are 3433 comedy producers,\n",
    "and we notice a leap in the comedy industry in the world of cinema,\n",
    "as from 1960 to 1999 only 1411 previous films were shot.\n",
    "While in the new millennium \"2000-2015\", 2022 was filmed"
   ]
  },
  {
   "cell_type": "markdown",
   "metadata": {},
   "source": [
    "## Limitations \n",
    "In the first step, while reading the data, I noticed a number of missing data.\n",
    "Which may affect the sample, I did not find that the option to fill in the data with the average value is a correct option, as a large number of films will have the same value, which will affect the overall statistics, so I preferred to delete them so that the statistics are more correct.\n"
   ]
  },
  {
   "cell_type": "markdown",
   "metadata": {},
   "source": [
    "## *References :\n",
    "    \n",
    " 1-   Use the matplotlib library for charts\n",
    "  https://matplotlib.org/3.3.2/index.html\n",
    "\n",
    "    "
   ]
  }
 ],
 "metadata": {
  "celltoolbar": "Slideshow",
  "kernelspec": {
   "display_name": "Python 3",
   "language": "python",
   "name": "python3"
  },
  "language_info": {
   "codemirror_mode": {
    "name": "ipython",
    "version": 3
   },
   "file_extension": ".py",
   "mimetype": "text/x-python",
   "name": "python",
   "nbconvert_exporter": "python",
   "pygments_lexer": "ipython3",
   "version": "3.8.5"
  }
 },
 "nbformat": 4,
 "nbformat_minor": 4
}
